{
 "cells": [
  {
   "cell_type": "code",
   "execution_count": 1,
   "id": "2206b8c4",
   "metadata": {
    "_cell_guid": "b1076dfc-b9ad-4769-8c92-a6c4dae69d19",
    "_uuid": "8f2839f25d086af736a60e9eeb907d3b93b6e0e5",
    "execution": {
     "iopub.execute_input": "2024-11-16T14:03:06.882988Z",
     "iopub.status.busy": "2024-11-16T14:03:06.882242Z",
     "iopub.status.idle": "2024-11-16T14:03:09.154491Z",
     "shell.execute_reply": "2024-11-16T14:03:09.152947Z"
    },
    "papermill": {
     "duration": 2.288069,
     "end_time": "2024-11-16T14:03:09.157439",
     "exception": false,
     "start_time": "2024-11-16T14:03:06.869370",
     "status": "completed"
    },
    "tags": []
   },
   "outputs": [],
   "source": [
    "import matplotlib.pyplot as plt\n",
    "from sklearn import preprocessing\n",
    "import pandas as pd\n",
    "import numpy as np"
   ]
  },
  {
   "cell_type": "code",
   "execution_count": 2,
   "id": "3bda1c78",
   "metadata": {
    "execution": {
     "iopub.execute_input": "2024-11-16T14:03:09.177792Z",
     "iopub.status.busy": "2024-11-16T14:03:09.177215Z",
     "iopub.status.idle": "2024-11-16T14:03:09.223285Z",
     "shell.execute_reply": "2024-11-16T14:03:09.222187Z"
    },
    "papermill": {
     "duration": 0.059259,
     "end_time": "2024-11-16T14:03:09.225809",
     "exception": false,
     "start_time": "2024-11-16T14:03:09.166550",
     "status": "completed"
    },
    "tags": []
   },
   "outputs": [
    {
     "data": {
      "text/html": [
       "<div>\n",
       "<style scoped>\n",
       "    .dataframe tbody tr th:only-of-type {\n",
       "        vertical-align: middle;\n",
       "    }\n",
       "\n",
       "    .dataframe tbody tr th {\n",
       "        vertical-align: top;\n",
       "    }\n",
       "\n",
       "    .dataframe thead th {\n",
       "        text-align: right;\n",
       "    }\n",
       "</style>\n",
       "<table border=\"1\" class=\"dataframe\">\n",
       "  <thead>\n",
       "    <tr style=\"text-align: right;\">\n",
       "      <th></th>\n",
       "      <th>region</th>\n",
       "      <th>tenure</th>\n",
       "      <th>age</th>\n",
       "      <th>marital</th>\n",
       "      <th>address</th>\n",
       "      <th>income</th>\n",
       "      <th>ed</th>\n",
       "      <th>employ</th>\n",
       "      <th>retire</th>\n",
       "      <th>gender</th>\n",
       "      <th>reside</th>\n",
       "      <th>custcat</th>\n",
       "    </tr>\n",
       "  </thead>\n",
       "  <tbody>\n",
       "    <tr>\n",
       "      <th>0</th>\n",
       "      <td>2</td>\n",
       "      <td>13</td>\n",
       "      <td>44</td>\n",
       "      <td>1</td>\n",
       "      <td>9</td>\n",
       "      <td>64.0</td>\n",
       "      <td>4</td>\n",
       "      <td>5</td>\n",
       "      <td>0.0</td>\n",
       "      <td>0</td>\n",
       "      <td>2</td>\n",
       "      <td>1</td>\n",
       "    </tr>\n",
       "    <tr>\n",
       "      <th>1</th>\n",
       "      <td>3</td>\n",
       "      <td>11</td>\n",
       "      <td>33</td>\n",
       "      <td>1</td>\n",
       "      <td>7</td>\n",
       "      <td>136.0</td>\n",
       "      <td>5</td>\n",
       "      <td>5</td>\n",
       "      <td>0.0</td>\n",
       "      <td>0</td>\n",
       "      <td>6</td>\n",
       "      <td>4</td>\n",
       "    </tr>\n",
       "    <tr>\n",
       "      <th>2</th>\n",
       "      <td>3</td>\n",
       "      <td>68</td>\n",
       "      <td>52</td>\n",
       "      <td>1</td>\n",
       "      <td>24</td>\n",
       "      <td>116.0</td>\n",
       "      <td>1</td>\n",
       "      <td>29</td>\n",
       "      <td>0.0</td>\n",
       "      <td>1</td>\n",
       "      <td>2</td>\n",
       "      <td>3</td>\n",
       "    </tr>\n",
       "    <tr>\n",
       "      <th>3</th>\n",
       "      <td>2</td>\n",
       "      <td>33</td>\n",
       "      <td>33</td>\n",
       "      <td>0</td>\n",
       "      <td>12</td>\n",
       "      <td>33.0</td>\n",
       "      <td>2</td>\n",
       "      <td>0</td>\n",
       "      <td>0.0</td>\n",
       "      <td>1</td>\n",
       "      <td>1</td>\n",
       "      <td>1</td>\n",
       "    </tr>\n",
       "    <tr>\n",
       "      <th>4</th>\n",
       "      <td>2</td>\n",
       "      <td>23</td>\n",
       "      <td>30</td>\n",
       "      <td>1</td>\n",
       "      <td>9</td>\n",
       "      <td>30.0</td>\n",
       "      <td>1</td>\n",
       "      <td>2</td>\n",
       "      <td>0.0</td>\n",
       "      <td>0</td>\n",
       "      <td>4</td>\n",
       "      <td>3</td>\n",
       "    </tr>\n",
       "  </tbody>\n",
       "</table>\n",
       "</div>"
      ],
      "text/plain": [
       "   region  tenure  age  marital  address  income  ed  employ  retire  gender  \\\n",
       "0       2      13   44        1        9    64.0   4       5     0.0       0   \n",
       "1       3      11   33        1        7   136.0   5       5     0.0       0   \n",
       "2       3      68   52        1       24   116.0   1      29     0.0       1   \n",
       "3       2      33   33        0       12    33.0   2       0     0.0       1   \n",
       "4       2      23   30        1        9    30.0   1       2     0.0       0   \n",
       "\n",
       "   reside  custcat  \n",
       "0       2        1  \n",
       "1       6        4  \n",
       "2       2        3  \n",
       "3       1        1  \n",
       "4       4        3  "
      ]
     },
     "execution_count": 2,
     "metadata": {},
     "output_type": "execute_result"
    }
   ],
   "source": [
    "df = pd.read_csv('/kaggle/input/telecust/teleCust.csv')\n",
    "df.head()"
   ]
  },
  {
   "cell_type": "markdown",
   "id": "36f93ff2",
   "metadata": {
    "papermill": {
     "duration": 0.008323,
     "end_time": "2024-11-16T14:03:09.243036",
     "exception": false,
     "start_time": "2024-11-16T14:03:09.234713",
     "status": "completed"
    },
    "tags": []
   },
   "source": [
    "DATA VISUALIZATION AND ANALYSIS"
   ]
  },
  {
   "cell_type": "code",
   "execution_count": 3,
   "id": "576c7580",
   "metadata": {
    "execution": {
     "iopub.execute_input": "2024-11-16T14:03:09.262248Z",
     "iopub.status.busy": "2024-11-16T14:03:09.261770Z",
     "iopub.status.idle": "2024-11-16T14:03:09.278882Z",
     "shell.execute_reply": "2024-11-16T14:03:09.277732Z"
    },
    "papermill": {
     "duration": 0.02968,
     "end_time": "2024-11-16T14:03:09.281324",
     "exception": false,
     "start_time": "2024-11-16T14:03:09.251644",
     "status": "completed"
    },
    "tags": []
   },
   "outputs": [
    {
     "data": {
      "text/plain": [
       "custcat\n",
       "3    281\n",
       "1    266\n",
       "4    236\n",
       "2    217\n",
       "Name: count, dtype: int64"
      ]
     },
     "execution_count": 3,
     "metadata": {},
     "output_type": "execute_result"
    }
   ],
   "source": [
    "df['custcat'].value_counts()"
   ]
  },
  {
   "cell_type": "code",
   "execution_count": 4,
   "id": "7d67e058",
   "metadata": {
    "execution": {
     "iopub.execute_input": "2024-11-16T14:03:09.301199Z",
     "iopub.status.busy": "2024-11-16T14:03:09.300745Z",
     "iopub.status.idle": "2024-11-16T14:03:09.833467Z",
     "shell.execute_reply": "2024-11-16T14:03:09.832128Z"
    },
    "papermill": {
     "duration": 0.545793,
     "end_time": "2024-11-16T14:03:09.836150",
     "exception": false,
     "start_time": "2024-11-16T14:03:09.290357",
     "status": "completed"
    },
    "tags": []
   },
   "outputs": [
    {
     "data": {
      "text/plain": [
       "array([[<Axes: title={'center': 'income'}>]], dtype=object)"
      ]
     },
     "execution_count": 4,
     "metadata": {},
     "output_type": "execute_result"
    },
    {
     "data": {
      "image/png": "[encoded data removed]",
      "text/plain": [
       "<Figure size 640x480 with 1 Axes>"
      ]
     },
     "metadata": {},
     "output_type": "display_data"
    }
   ],
   "source": [
    "df.hist(column='income', bins=20)"
   ]
  },
  {
   "cell_type": "markdown",
   "id": "4dce9313",
   "metadata": {
    "execution": {
     "iopub.execute_input": "2024-11-16T13:44:20.445053Z",
     "iopub.status.busy": "2024-11-16T13:44:20.444559Z",
     "iopub.status.idle": "2024-11-16T13:44:20.453427Z",
     "shell.execute_reply": "2024-11-16T13:44:20.451725Z",
     "shell.execute_reply.started": "2024-11-16T13:44:20.445009Z"
    },
    "papermill": {
     "duration": 0.009446,
     "end_time": "2024-11-16T14:03:09.856144",
     "exception": false,
     "start_time": "2024-11-16T14:03:09.846698",
     "status": "completed"
    },
    "tags": []
   },
   "source": [
    "FEATURE SET"
   ]
  },
  {
   "cell_type": "code",
   "execution_count": 5,
   "id": "271b074d",
   "metadata": {
    "execution": {
     "iopub.execute_input": "2024-11-16T14:03:09.876857Z",
     "iopub.status.busy": "2024-11-16T14:03:09.876328Z",
     "iopub.status.idle": "2024-11-16T14:03:09.884843Z",
     "shell.execute_reply": "2024-11-16T14:03:09.883758Z"
    },
    "papermill": {
     "duration": 0.022185,
     "end_time": "2024-11-16T14:03:09.887579",
     "exception": false,
     "start_time": "2024-11-16T14:03:09.865394",
     "status": "completed"
    },
    "tags": []
   },
   "outputs": [
    {
     "data": {
      "text/plain": [
       "Index(['region', 'tenure', 'age', 'marital', 'address', 'income', 'ed',\n",
       "       'employ', 'retire', 'gender', 'reside', 'custcat'],\n",
       "      dtype='object')"
      ]
     },
     "execution_count": 5,
     "metadata": {},
     "output_type": "execute_result"
    }
   ],
   "source": [
    "df.columns"
   ]
  },
  {
   "cell_type": "code",
   "execution_count": 6,
   "id": "4a41d5f0",
   "metadata": {
    "execution": {
     "iopub.execute_input": "2024-11-16T14:03:09.909174Z",
     "iopub.status.busy": "2024-11-16T14:03:09.908681Z",
     "iopub.status.idle": "2024-11-16T14:03:09.920221Z",
     "shell.execute_reply": "2024-11-16T14:03:09.919123Z"
    },
    "papermill": {
     "duration": 0.025554,
     "end_time": "2024-11-16T14:03:09.922840",
     "exception": false,
     "start_time": "2024-11-16T14:03:09.897286",
     "status": "completed"
    },
    "tags": []
   },
   "outputs": [
    {
     "data": {
      "text/plain": [
       "array([[  2.,  13.,  44.,   1.,   9.,  64.,   4.,   5.,   0.,   0.,   2.,\n",
       "          1.],\n",
       "       [  3.,  11.,  33.,   1.,   7., 136.,   5.,   5.,   0.,   0.,   6.,\n",
       "          4.],\n",
       "       [  3.,  68.,  52.,   1.,  24., 116.,   1.,  29.,   0.,   1.,   2.,\n",
       "          3.],\n",
       "       [  2.,  33.,  33.,   0.,  12.,  33.,   2.,   0.,   0.,   1.,   1.,\n",
       "          1.],\n",
       "       [  2.,  23.,  30.,   1.,   9.,  30.,   1.,   2.,   0.,   0.,   4.,\n",
       "          3.]])"
      ]
     },
     "execution_count": 6,
     "metadata": {},
     "output_type": "execute_result"
    }
   ],
   "source": [
    "#To use scikit-learn library, we have to convert the Pandas data frame to a Numpy array:\n",
    "\n",
    "X= df[['region', 'tenure', 'age', 'marital', 'address', 'income', 'ed','employ', 'retire', 'gender', 'reside', 'custcat']].values #.astype(float)\n",
    "X[0:5]"
   ]
  },
  {
   "cell_type": "code",
   "execution_count": 7,
   "id": "5e305a2d",
   "metadata": {
    "execution": {
     "iopub.execute_input": "2024-11-16T14:03:09.944621Z",
     "iopub.status.busy": "2024-11-16T14:03:09.944141Z",
     "iopub.status.idle": "2024-11-16T14:03:09.951806Z",
     "shell.execute_reply": "2024-11-16T14:03:09.950726Z"
    },
    "papermill": {
     "duration": 0.021439,
     "end_time": "2024-11-16T14:03:09.954239",
     "exception": false,
     "start_time": "2024-11-16T14:03:09.932800",
     "status": "completed"
    },
    "tags": []
   },
   "outputs": [
    {
     "data": {
      "text/plain": [
       "array([1, 4, 3, 1, 3])"
      ]
     },
     "execution_count": 7,
     "metadata": {},
     "output_type": "execute_result"
    }
   ],
   "source": [
    "y = df['custcat'].values\n",
    "y[0:5]"
   ]
  },
  {
   "cell_type": "markdown",
   "id": "927ce6d5",
   "metadata": {
    "papermill": {
     "duration": 0.009543,
     "end_time": "2024-11-16T14:03:09.973581",
     "exception": false,
     "start_time": "2024-11-16T14:03:09.964038",
     "status": "completed"
    },
    "tags": []
   },
   "source": [
    "Normalize Data"
   ]
  },
  {
   "cell_type": "code",
   "execution_count": 8,
   "id": "03f2a1a7",
   "metadata": {
    "execution": {
     "iopub.execute_input": "2024-11-16T14:03:09.996273Z",
     "iopub.status.busy": "2024-11-16T14:03:09.994744Z",
     "iopub.status.idle": "2024-11-16T14:03:10.007260Z",
     "shell.execute_reply": "2024-11-16T14:03:10.006073Z"
    },
    "papermill": {
     "duration": 0.026577,
     "end_time": "2024-11-16T14:03:10.009917",
     "exception": false,
     "start_time": "2024-11-16T14:03:09.983340",
     "status": "completed"
    },
    "tags": []
   },
   "outputs": [
    {
     "data": {
      "text/plain": [
       "array([[-0.02696767, -1.055125  ,  0.18450456,  1.0100505 , -0.25303431,\n",
       "        -0.12650641,  1.0877526 , -0.5941226 , -0.22207644, -1.03459817,\n",
       "        -0.23065004, -1.32797979],\n",
       "       [ 1.19883553, -1.14880563, -0.69181243,  1.0100505 , -0.4514148 ,\n",
       "         0.54644972,  1.9062271 , -0.5941226 , -0.22207644, -1.03459817,\n",
       "         2.55666158,  1.35119935],\n",
       "       [ 1.19883553,  1.52109247,  0.82182601,  1.0100505 ,  1.23481934,\n",
       "         0.35951747, -1.36767088,  1.78752803, -0.22207644,  0.96655883,\n",
       "        -0.23065004,  0.45813963],\n",
       "       [-0.02696767, -0.11831864, -0.69181243, -0.9900495 ,  0.04453642,\n",
       "        -0.41625141, -0.54919639, -1.09029981, -0.22207644,  0.96655883,\n",
       "        -0.92747794, -1.32797979],\n",
       "       [-0.02696767, -0.58672182, -0.93080797,  1.0100505 , -0.25303431,\n",
       "        -0.44429125, -1.36767088, -0.89182893, -0.22207644, -1.03459817,\n",
       "         1.16300577,  0.45813963]])"
      ]
     },
     "execution_count": 8,
     "metadata": {},
     "output_type": "execute_result"
    }
   ],
   "source": [
    "X = preprocessing.StandardScaler().fit(X).transform(X.astype(float))\n",
    "X[0:5]"
   ]
  },
  {
   "cell_type": "code",
   "execution_count": 9,
   "id": "4e535622",
   "metadata": {
    "execution": {
     "iopub.execute_input": "2024-11-16T14:03:10.031861Z",
     "iopub.status.busy": "2024-11-16T14:03:10.031396Z",
     "iopub.status.idle": "2024-11-16T14:03:10.142461Z",
     "shell.execute_reply": "2024-11-16T14:03:10.141178Z"
    },
    "papermill": {
     "duration": 0.125437,
     "end_time": "2024-11-16T14:03:10.145406",
     "exception": false,
     "start_time": "2024-11-16T14:03:10.019969",
     "status": "completed"
    },
    "tags": []
   },
   "outputs": [
    {
     "name": "stdout",
     "output_type": "stream",
     "text": [
      "Train set: (800, 12) (800,)\n",
      "Test set: (200, 12) (200,)\n"
     ]
    }
   ],
   "source": [
    "from sklearn.model_selection import train_test_split\n",
    "X_train, X_test, y_train, y_test = train_test_split( X, y, test_size=0.2, random_state=4)\n",
    "print ('Train set:', X_train.shape,  y_train.shape)\n",
    "print ('Test set:', X_test.shape,  y_test.shape)"
   ]
  },
  {
   "cell_type": "markdown",
   "id": "81e10fa4",
   "metadata": {
    "papermill": {
     "duration": 0.010005,
     "end_time": "2024-11-16T14:03:10.165707",
     "exception": false,
     "start_time": "2024-11-16T14:03:10.155702",
     "status": "completed"
    },
    "tags": []
   },
   "source": [
    "**CLASSIFICATION**"
   ]
  },
  {
   "cell_type": "code",
   "execution_count": 10,
   "id": "811ec002",
   "metadata": {
    "execution": {
     "iopub.execute_input": "2024-11-16T14:03:10.188061Z",
     "iopub.status.busy": "2024-11-16T14:03:10.187586Z",
     "iopub.status.idle": "2024-11-16T14:03:10.368180Z",
     "shell.execute_reply": "2024-11-16T14:03:10.366997Z"
    },
    "papermill": {
     "duration": 0.195197,
     "end_time": "2024-11-16T14:03:10.371083",
     "exception": false,
     "start_time": "2024-11-16T14:03:10.175886",
     "status": "completed"
    },
    "tags": []
   },
   "outputs": [],
   "source": [
    "from sklearn.neighbors import KNeighborsClassifier"
   ]
  },
  {
   "cell_type": "code",
   "execution_count": 11,
   "id": "4772bbb4",
   "metadata": {
    "execution": {
     "iopub.execute_input": "2024-11-16T14:03:10.394316Z",
     "iopub.status.busy": "2024-11-16T14:03:10.393299Z",
     "iopub.status.idle": "2024-11-16T14:03:10.407145Z",
     "shell.execute_reply": "2024-11-16T14:03:10.405937Z"
    },
    "papermill": {
     "duration": 0.028201,
     "end_time": "2024-11-16T14:03:10.409808",
     "exception": false,
     "start_time": "2024-11-16T14:03:10.381607",
     "status": "completed"
    },
    "tags": []
   },
   "outputs": [
    {
     "data": {
      "text/html": [
       "<style>#sk-container-id-1 {color: black;background-color: white;}#sk-container-id-1 pre{padding: 0;}#sk-container-id-1 div.sk-toggleable {background-color: white;}#sk-container-id-1 label.sk-toggleable__label {cursor: pointer;display: block;width: 100%;margin-bottom: 0;padding: 0.3em;box-sizing: border-box;text-align: center;}#sk-container-id-1 label.sk-toggleable__label-arrow:before {content: \"▸\";float: left;margin-right: 0.25em;color: #696969;}#sk-container-id-1 label.sk-toggleable__label-arrow:hover:before {color: black;}#sk-container-id-1 div.sk-estimator:hover label.sk-toggleable__label-arrow:before {color: black;}#sk-container-id-1 div.sk-toggleable__content {max-height: 0;max-width: 0;overflow: hidden;text-align: left;background-color: #f0f8ff;}#sk-container-id-1 div.sk-toggleable__content pre {margin: 0.2em;color: black;border-radius: 0.25em;background-color: #f0f8ff;}#sk-container-id-1 input.sk-toggleable__control:checked~div.sk-toggleable__content {max-height: 200px;max-width: 100%;overflow: auto;}#sk-container-id-1 input.sk-toggleable__control:checked~label.sk-toggleable__label-arrow:before {content: \"▾\";}#sk-container-id-1 div.sk-estimator input.sk-toggleable__control:checked~label.sk-toggleable__label {background-color: #d4ebff;}#sk-container-id-1 div.sk-label input.sk-toggleable__control:checked~label.sk-toggleable__label {background-color: #d4ebff;}#sk-container-id-1 input.sk-hidden--visually {border: 0;clip: rect(1px 1px 1px 1px);clip: rect(1px, 1px, 1px, 1px);height: 1px;margin: -1px;overflow: hidden;padding: 0;position: absolute;width: 1px;}#sk-container-id-1 div.sk-estimator {font-family: monospace;background-color: #f0f8ff;border: 1px dotted black;border-radius: 0.25em;box-sizing: border-box;margin-bottom: 0.5em;}#sk-container-id-1 div.sk-estimator:hover {background-color: #d4ebff;}#sk-container-id-1 div.sk-parallel-item::after {content: \"\";width: 100%;border-bottom: 1px solid gray;flex-grow: 1;}#sk-container-id-1 div.sk-label:hover label.sk-toggleable__label {background-color: #d4ebff;}#sk-container-id-1 div.sk-serial::before {content: \"\";position: absolute;border-left: 1px solid gray;box-sizing: border-box;top: 0;bottom: 0;left: 50%;z-index: 0;}#sk-container-id-1 div.sk-serial {display: flex;flex-direction: column;align-items: center;background-color: white;padding-right: 0.2em;padding-left: 0.2em;position: relative;}#sk-container-id-1 div.sk-item {position: relative;z-index: 1;}#sk-container-id-1 div.sk-parallel {display: flex;align-items: stretch;justify-content: center;background-color: white;position: relative;}#sk-container-id-1 div.sk-item::before, #sk-container-id-1 div.sk-parallel-item::before {content: \"\";position: absolute;border-left: 1px solid gray;box-sizing: border-box;top: 0;bottom: 0;left: 50%;z-index: -1;}#sk-container-id-1 div.sk-parallel-item {display: flex;flex-direction: column;z-index: 1;position: relative;background-color: white;}#sk-container-id-1 div.sk-parallel-item:first-child::after {align-self: flex-end;width: 50%;}#sk-container-id-1 div.sk-parallel-item:last-child::after {align-self: flex-start;width: 50%;}#sk-container-id-1 div.sk-parallel-item:only-child::after {width: 0;}#sk-container-id-1 div.sk-dashed-wrapped {border: 1px dashed gray;margin: 0 0.4em 0.5em 0.4em;box-sizing: border-box;padding-bottom: 0.4em;background-color: white;}#sk-container-id-1 div.sk-label label {font-family: monospace;font-weight: bold;display: inline-block;line-height: 1.2em;}#sk-container-id-1 div.sk-label-container {text-align: center;}#sk-container-id-1 div.sk-container {/* jupyter's `normalize.less` sets `[hidden] { display: none; }` but bootstrap.min.css set `[hidden] { display: none !important; }` so we also need the `!important` here to be able to override the default hidden behavior on the sphinx rendered scikit-learn.org. See: https://github.com/scikit-learn/scikit-learn/issues/21755 */display: inline-block !important;position: relative;}#sk-container-id-1 div.sk-text-repr-fallback {display: none;}</style><div id=\"sk-container-id-1\" class=\"sk-top-container\"><div class=\"sk-text-repr-fallback\"><pre>KNeighborsClassifier(n_neighbors=4)</pre><b>In a Jupyter environment, please rerun this cell to show the HTML representation or trust the notebook. <br />On GitHub, the HTML representation is unable to render, please try loading this page with nbviewer.org.</b></div><div class=\"sk-container\" hidden><div class=\"sk-item\"><div class=\"sk-estimator sk-toggleable\"><input class=\"sk-toggleable__control sk-hidden--visually\" id=\"sk-estimator-id-1\" type=\"checkbox\" checked><label for=\"sk-estimator-id-1\" class=\"sk-toggleable__label sk-toggleable__label-arrow\">KNeighborsClassifier</label><div class=\"sk-toggleable__content\"><pre>KNeighborsClassifier(n_neighbors=4)</pre></div></div></div></div></div>"
      ],
      "text/plain": [
       "KNeighborsClassifier(n_neighbors=4)"
      ]
     },
     "execution_count": 11,
     "metadata": {},
     "output_type": "execute_result"
    }
   ],
   "source": [
    "k = 4\n",
    "#Train Model and Predict  \n",
    "neigh = KNeighborsClassifier(n_neighbors = k).fit(X_train,y_train)\n",
    "neigh"
   ]
  },
  {
   "cell_type": "code",
   "execution_count": 12,
   "id": "6b5f6c8e",
   "metadata": {
    "execution": {
     "iopub.execute_input": "2024-11-16T14:03:10.432504Z",
     "iopub.status.busy": "2024-11-16T14:03:10.432058Z",
     "iopub.status.idle": "2024-11-16T14:03:10.457633Z",
     "shell.execute_reply": "2024-11-16T14:03:10.456428Z"
    },
    "papermill": {
     "duration": 0.039841,
     "end_time": "2024-11-16T14:03:10.460173",
     "exception": false,
     "start_time": "2024-11-16T14:03:10.420332",
     "status": "completed"
    },
    "tags": []
   },
   "outputs": [
    {
     "data": {
      "text/plain": [
       "array([3, 1, 1, 2, 4])"
      ]
     },
     "execution_count": 12,
     "metadata": {},
     "output_type": "execute_result"
    }
   ],
   "source": [
    "yhat = neigh.predict(X_test)\n",
    "yhat[0:5]"
   ]
  },
  {
   "cell_type": "code",
   "execution_count": 13,
   "id": "4000b7e9",
   "metadata": {
    "execution": {
     "iopub.execute_input": "2024-11-16T14:03:10.483673Z",
     "iopub.status.busy": "2024-11-16T14:03:10.483212Z",
     "iopub.status.idle": "2024-11-16T14:03:10.554909Z",
     "shell.execute_reply": "2024-11-16T14:03:10.553589Z"
    },
    "papermill": {
     "duration": 0.086532,
     "end_time": "2024-11-16T14:03:10.557451",
     "exception": false,
     "start_time": "2024-11-16T14:03:10.470919",
     "status": "completed"
    },
    "tags": []
   },
   "outputs": [
    {
     "name": "stdout",
     "output_type": "stream",
     "text": [
      "Train set Accuracy:  0.82875\n",
      "Test set Accuracy:  0.735\n"
     ]
    }
   ],
   "source": [
    "from sklearn import metrics\n",
    "print(\"Train set Accuracy: \", metrics.accuracy_score(y_train, neigh.predict(X_train)))\n",
    "print(\"Test set Accuracy: \", metrics.accuracy_score(y_test, yhat))"
   ]
  },
  {
   "cell_type": "markdown",
   "id": "41f61a51",
   "metadata": {
    "papermill": {
     "duration": 0.010559,
     "end_time": "2024-11-16T14:03:10.578976",
     "exception": false,
     "start_time": "2024-11-16T14:03:10.568417",
     "status": "completed"
    },
    "tags": []
   },
   "source": [
    "WITH K=6"
   ]
  },
  {
   "cell_type": "code",
   "execution_count": 14,
   "id": "6aa2a60e",
   "metadata": {
    "execution": {
     "iopub.execute_input": "2024-11-16T14:03:10.602237Z",
     "iopub.status.busy": "2024-11-16T14:03:10.601754Z",
     "iopub.status.idle": "2024-11-16T14:03:10.613546Z",
     "shell.execute_reply": "2024-11-16T14:03:10.612405Z"
    },
    "papermill": {
     "duration": 0.02643,
     "end_time": "2024-11-16T14:03:10.616113",
     "exception": false,
     "start_time": "2024-11-16T14:03:10.589683",
     "status": "completed"
    },
    "tags": []
   },
   "outputs": [
    {
     "data": {
      "text/html": [
       "<style>#sk-container-id-2 {color: black;background-color: white;}#sk-container-id-2 pre{padding: 0;}#sk-container-id-2 div.sk-toggleable {background-color: white;}#sk-container-id-2 label.sk-toggleable__label {cursor: pointer;display: block;width: 100%;margin-bottom: 0;padding: 0.3em;box-sizing: border-box;text-align: center;}#sk-container-id-2 label.sk-toggleable__label-arrow:before {content: \"▸\";float: left;margin-right: 0.25em;color: #696969;}#sk-container-id-2 label.sk-toggleable__label-arrow:hover:before {color: black;}#sk-container-id-2 div.sk-estimator:hover label.sk-toggleable__label-arrow:before {color: black;}#sk-container-id-2 div.sk-toggleable__content {max-height: 0;max-width: 0;overflow: hidden;text-align: left;background-color: #f0f8ff;}#sk-container-id-2 div.sk-toggleable__content pre {margin: 0.2em;color: black;border-radius: 0.25em;background-color: #f0f8ff;}#sk-container-id-2 input.sk-toggleable__control:checked~div.sk-toggleable__content {max-height: 200px;max-width: 100%;overflow: auto;}#sk-container-id-2 input.sk-toggleable__control:checked~label.sk-toggleable__label-arrow:before {content: \"▾\";}#sk-container-id-2 div.sk-estimator input.sk-toggleable__control:checked~label.sk-toggleable__label {background-color: #d4ebff;}#sk-container-id-2 div.sk-label input.sk-toggleable__control:checked~label.sk-toggleable__label {background-color: #d4ebff;}#sk-container-id-2 input.sk-hidden--visually {border: 0;clip: rect(1px 1px 1px 1px);clip: rect(1px, 1px, 1px, 1px);height: 1px;margin: -1px;overflow: hidden;padding: 0;position: absolute;width: 1px;}#sk-container-id-2 div.sk-estimator {font-family: monospace;background-color: #f0f8ff;border: 1px dotted black;border-radius: 0.25em;box-sizing: border-box;margin-bottom: 0.5em;}#sk-container-id-2 div.sk-estimator:hover {background-color: #d4ebff;}#sk-container-id-2 div.sk-parallel-item::after {content: \"\";width: 100%;border-bottom: 1px solid gray;flex-grow: 1;}#sk-container-id-2 div.sk-label:hover label.sk-toggleable__label {background-color: #d4ebff;}#sk-container-id-2 div.sk-serial::before {content: \"\";position: absolute;border-left: 1px solid gray;box-sizing: border-box;top: 0;bottom: 0;left: 50%;z-index: 0;}#sk-container-id-2 div.sk-serial {display: flex;flex-direction: column;align-items: center;background-color: white;padding-right: 0.2em;padding-left: 0.2em;position: relative;}#sk-container-id-2 div.sk-item {position: relative;z-index: 1;}#sk-container-id-2 div.sk-parallel {display: flex;align-items: stretch;justify-content: center;background-color: white;position: relative;}#sk-container-id-2 div.sk-item::before, #sk-container-id-2 div.sk-parallel-item::before {content: \"\";position: absolute;border-left: 1px solid gray;box-sizing: border-box;top: 0;bottom: 0;left: 50%;z-index: -1;}#sk-container-id-2 div.sk-parallel-item {display: flex;flex-direction: column;z-index: 1;position: relative;background-color: white;}#sk-container-id-2 div.sk-parallel-item:first-child::after {align-self: flex-end;width: 50%;}#sk-container-id-2 div.sk-parallel-item:last-child::after {align-self: flex-start;width: 50%;}#sk-container-id-2 div.sk-parallel-item:only-child::after {width: 0;}#sk-container-id-2 div.sk-dashed-wrapped {border: 1px dashed gray;margin: 0 0.4em 0.5em 0.4em;box-sizing: border-box;padding-bottom: 0.4em;background-color: white;}#sk-container-id-2 div.sk-label label {font-family: monospace;font-weight: bold;display: inline-block;line-height: 1.2em;}#sk-container-id-2 div.sk-label-container {text-align: center;}#sk-container-id-2 div.sk-container {/* jupyter's `normalize.less` sets `[hidden] { display: none; }` but bootstrap.min.css set `[hidden] { display: none !important; }` so we also need the `!important` here to be able to override the default hidden behavior on the sphinx rendered scikit-learn.org. See: https://github.com/scikit-learn/scikit-learn/issues/21755 */display: inline-block !important;position: relative;}#sk-container-id-2 div.sk-text-repr-fallback {display: none;}</style><div id=\"sk-container-id-2\" class=\"sk-top-container\"><div class=\"sk-text-repr-fallback\"><pre>KNeighborsClassifier(n_neighbors=6)</pre><b>In a Jupyter environment, please rerun this cell to show the HTML representation or trust the notebook. <br />On GitHub, the HTML representation is unable to render, please try loading this page with nbviewer.org.</b></div><div class=\"sk-container\" hidden><div class=\"sk-item\"><div class=\"sk-estimator sk-toggleable\"><input class=\"sk-toggleable__control sk-hidden--visually\" id=\"sk-estimator-id-2\" type=\"checkbox\" checked><label for=\"sk-estimator-id-2\" class=\"sk-toggleable__label sk-toggleable__label-arrow\">KNeighborsClassifier</label><div class=\"sk-toggleable__content\"><pre>KNeighborsClassifier(n_neighbors=6)</pre></div></div></div></div></div>"
      ],
      "text/plain": [
       "KNeighborsClassifier(n_neighbors=6)"
      ]
     },
     "execution_count": 14,
     "metadata": {},
     "output_type": "execute_result"
    }
   ],
   "source": [
    "k=6\n",
    "neigh = KNeighborsClassifier(n_neighbors=k).fit(X_train,y_train)\n",
    "neigh"
   ]
  },
  {
   "cell_type": "code",
   "execution_count": 15,
   "id": "de7aebaf",
   "metadata": {
    "execution": {
     "iopub.execute_input": "2024-11-16T14:03:10.640325Z",
     "iopub.status.busy": "2024-11-16T14:03:10.639464Z",
     "iopub.status.idle": "2024-11-16T14:03:10.665008Z",
     "shell.execute_reply": "2024-11-16T14:03:10.663886Z"
    },
    "papermill": {
     "duration": 0.040455,
     "end_time": "2024-11-16T14:03:10.667578",
     "exception": false,
     "start_time": "2024-11-16T14:03:10.627123",
     "status": "completed"
    },
    "tags": []
   },
   "outputs": [
    {
     "data": {
      "text/plain": [
       "array([3, 1, 1, 2, 4])"
      ]
     },
     "execution_count": 15,
     "metadata": {},
     "output_type": "execute_result"
    }
   ],
   "source": [
    "yhat=neigh.predict(X_test)\n",
    "yhat[0:5]"
   ]
  },
  {
   "cell_type": "code",
   "execution_count": 16,
   "id": "a8cfb39c",
   "metadata": {
    "execution": {
     "iopub.execute_input": "2024-11-16T14:03:10.691646Z",
     "iopub.status.busy": "2024-11-16T14:03:10.691191Z",
     "iopub.status.idle": "2024-11-16T14:03:10.763153Z",
     "shell.execute_reply": "2024-11-16T14:03:10.761625Z"
    },
    "papermill": {
     "duration": 0.087136,
     "end_time": "2024-11-16T14:03:10.765859",
     "exception": false,
     "start_time": "2024-11-16T14:03:10.678723",
     "status": "completed"
    },
    "tags": []
   },
   "outputs": [
    {
     "name": "stdout",
     "output_type": "stream",
     "text": [
      "Train set accuracy:  0.8125\n",
      "Test set accuracy:  0.755\n"
     ]
    }
   ],
   "source": [
    "from sklearn import metrics\n",
    "print(\"Train set accuracy: \", metrics.accuracy_score(y_train, neigh.predict(X_train)))\n",
    "print(\"Test set accuracy: \", metrics.accuracy_score(y_test, yhat))"
   ]
  },
  {
   "cell_type": "markdown",
   "id": "8680251a",
   "metadata": {
    "papermill": {
     "duration": 0.011323,
     "end_time": "2024-11-16T14:03:10.788383",
     "exception": false,
     "start_time": "2024-11-16T14:03:10.777060",
     "status": "completed"
    },
    "tags": []
   },
   "source": [
    "KNN Accuracy for different values of K"
   ]
  },
  {
   "cell_type": "code",
   "execution_count": 17,
   "id": "b448cc17",
   "metadata": {
    "execution": {
     "iopub.execute_input": "2024-11-16T14:03:10.813000Z",
     "iopub.status.busy": "2024-11-16T14:03:10.812353Z",
     "iopub.status.idle": "2024-11-16T14:03:11.001309Z",
     "shell.execute_reply": "2024-11-16T14:03:10.999931Z"
    },
    "papermill": {
     "duration": 0.205496,
     "end_time": "2024-11-16T14:03:11.005105",
     "exception": false,
     "start_time": "2024-11-16T14:03:10.799609",
     "status": "completed"
    },
    "tags": []
   },
   "outputs": [
    {
     "data": {
      "text/plain": [
       "array([0.76 , 0.68 , 0.725, 0.735, 0.73 , 0.755, 0.775, 0.77 , 0.765])"
      ]
     },
     "execution_count": 17,
     "metadata": {},
     "output_type": "execute_result"
    }
   ],
   "source": [
    "Ks = 10\n",
    "mean_acc = np.zeros((Ks-1))\n",
    "std_acc = np.zeros((Ks-1))\n",
    "\n",
    "for n in range(1,Ks):\n",
    "    \n",
    "    #Train Model and Predict  \n",
    "    neigh = KNeighborsClassifier(n_neighbors = n).fit(X_train,y_train)\n",
    "    yhat=neigh.predict(X_test)\n",
    "    mean_acc[n-1] = metrics.accuracy_score(y_test, yhat)\n",
    "\n",
    "    \n",
    "    std_acc[n-1]=np.std(yhat==y_test)/np.sqrt(yhat.shape[0])\n",
    "\n",
    "mean_acc"
   ]
  },
  {
   "cell_type": "code",
   "execution_count": 18,
   "id": "bf3090ae",
   "metadata": {
    "execution": {
     "iopub.execute_input": "2024-11-16T14:03:11.030045Z",
     "iopub.status.busy": "2024-11-16T14:03:11.029604Z",
     "iopub.status.idle": "2024-11-16T14:03:11.449065Z",
     "shell.execute_reply": "2024-11-16T14:03:11.447743Z"
    },
    "papermill": {
     "duration": 0.435152,
     "end_time": "2024-11-16T14:03:11.451974",
     "exception": false,
     "start_time": "2024-11-16T14:03:11.016822",
     "status": "completed"
    },
    "tags": []
   },
   "outputs": [
    {
     "data": {
      "image/png": "[encoded data removed]",
      "text/plain": [
       "<Figure size 640x480 with 1 Axes>"
      ]
     },
     "metadata": {},
     "output_type": "display_data"
    }
   ],
   "source": [
    "plt.plot(range(1,Ks),mean_acc,'g')\n",
    "plt.fill_between(range(1,Ks),mean_acc - 1 * std_acc,mean_acc + 1 * std_acc, alpha=0.10)\n",
    "plt.fill_between(range(1,Ks),mean_acc - 3 * std_acc,mean_acc + 3 * std_acc, alpha=0.10,color=\"green\")\n",
    "plt.legend(('Accuracy ', '+/- 1xstd','+/- 3xstd'))\n",
    "plt.ylabel('Accuracy ')\n",
    "plt.xlabel('Number of Neighbors (K)')\n",
    "plt.tight_layout()\n",
    "plt.show()"
   ]
  },
  {
   "cell_type": "code",
   "execution_count": 19,
   "id": "6382aa6f",
   "metadata": {
    "execution": {
     "iopub.execute_input": "2024-11-16T14:03:11.478760Z",
     "iopub.status.busy": "2024-11-16T14:03:11.478153Z",
     "iopub.status.idle": "2024-11-16T14:03:11.484979Z",
     "shell.execute_reply": "2024-11-16T14:03:11.483682Z"
    },
    "papermill": {
     "duration": 0.023271,
     "end_time": "2024-11-16T14:03:11.487724",
     "exception": false,
     "start_time": "2024-11-16T14:03:11.464453",
     "status": "completed"
    },
    "tags": []
   },
   "outputs": [
    {
     "name": "stdout",
     "output_type": "stream",
     "text": [
      "The best accuracy was with 0.775 with k= 7\n"
     ]
    }
   ],
   "source": [
    "print( \"The best accuracy was with\", mean_acc.max(), \"with k=\", mean_acc.argmax()+1) "
   ]
  },
  {
   "cell_type": "code",
   "execution_count": null,
   "id": "2a5f3e9f",
   "metadata": {
    "papermill": {
     "duration": 0.011856,
     "end_time": "2024-11-16T14:03:11.511743",
     "exception": false,
     "start_time": "2024-11-16T14:03:11.499887",
     "status": "completed"
    },
    "tags": []
   },
   "outputs": [],
   "source": []
  }
 ],
 "metadata": {
  "kaggle": {
   "accelerator": "none",
   "dataSources": [
    {
     "datasetId": 6099737,
     "sourceId": 9924361,
     "sourceType": "datasetVersion"
    }
   ],
   "dockerImageVersionId": 30786,
   "isGpuEnabled": false,
   "isInternetEnabled": true,
   "language": "python",
   "sourceType": "notebook"
  },
  "kernelspec": {
   "display_name": "Python 3",
   "language": "python",
   "name": "python3"
  },
  "language_info": {
   "codemirror_mode": {
    "name": "ipython",
    "version": 3
   },
   "file_extension": ".py",
   "mimetype": "text/x-python",
   "name": "python",
   "nbconvert_exporter": "python",
   "pygments_lexer": "ipython3",
   "version": "3.10.14"
  },
  "papermill": {
   "default_parameters": {},
   "duration": 8.363114,
   "end_time": "2024-11-16T14:03:12.146160",
   "environment_variables": {},
   "exception": null,
   "input_path": "__notebook__.ipynb",
   "output_path": "__notebook__.ipynb",
   "parameters": {},
   "start_time": "2024-11-16T14:03:03.783046",
   "version": "2.6.0"
  }
 },
 "nbformat": 4,
 "nbformat_minor": 5
}
