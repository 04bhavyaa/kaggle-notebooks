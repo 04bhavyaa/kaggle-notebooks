{
 "cells": [
  {
   "cell_type": "markdown",
   "id": "f5692fcf",
   "metadata": {
    "_cell_guid": "b1076dfc-b9ad-4769-8c92-a6c4dae69d19",
    "_uuid": "8f2839f25d086af736a60e9eeb907d3b93b6e0e5",
    "papermill": {
     "duration": 0.004579,
     "end_time": "2024-11-24T05:01:02.583417",
     "exception": false,
     "start_time": "2024-11-24T05:01:02.578838",
     "status": "completed"
    },
    "tags": []
   },
   "source": [
    "## Introduction to GridSearchCV\n",
    "GridSearchCV in Scikit-Learn is a vital tool for hyperparameter tuning, performing an exhaustive search over specified parameter values for an estimator. It systematically evaluates each combination using cross-validation to identify the optimal settings that maximize model performance based on a scoring metric like accuracy or F1-score. Hyperparameter tuning is crucial as it significantly impacts model performance, preventing underfitting or overfitting. GridSearchCV automates this process, ensuring robust generalization on unseen data. It helps data scientists efficiently find the best hyperparameters, saving time and resources while optimizing model performance, making it an essential tool in the machine learning pipeline.\n",
    "\n",
    "### Parameters:\n",
    "GridSearchCV has several important parameters:\n",
    "* Estimator: The model or pipeline to be optimized. This can be any Scikit-Learn estimator like LogisticRegression(),SVC(), RandomForestClassifier(), etc.\n",
    "* param_grid: A dictionary or list of dictionaries with parameter names (as strings) as keys and lists of parameter settings to try as values. Using param_grid, you can specify the hyperparameters for various models to find the optimal combination.ameters."
   ]
  },
  {
   "cell_type": "code",
   "execution_count": 1,
   "id": "8a6d7dfa",
   "metadata": {
    "execution": {
     "iopub.execute_input": "2024-11-24T05:01:02.593651Z",
     "iopub.status.busy": "2024-11-24T05:01:02.592798Z",
     "iopub.status.idle": "2024-11-24T05:01:05.152407Z",
     "shell.execute_reply": "2024-11-24T05:01:05.151344Z"
    },
    "papermill": {
     "duration": 2.567615,
     "end_time": "2024-11-24T05:01:05.155079",
     "exception": false,
     "start_time": "2024-11-24T05:01:02.587464",
     "status": "completed"
    },
    "tags": []
   },
   "outputs": [],
   "source": [
    "import numpy as np\n",
    "import pandas as pd\n",
    "from sklearn.datasets import load_iris\n",
    "from sklearn.model_selection import train_test_split, GridSearchCV\n",
    "from sklearn.svm import SVC\n",
    "from sklearn.metrics import classification_report\n",
    "import warnings\n",
    "# Ignore warnings\n",
    "warnings.filterwarnings('ignore')"
   ]
  },
  {
   "cell_type": "code",
   "execution_count": 2,
   "id": "710d6599",
   "metadata": {
    "execution": {
     "iopub.execute_input": "2024-11-24T05:01:05.165472Z",
     "iopub.status.busy": "2024-11-24T05:01:05.164325Z",
     "iopub.status.idle": "2024-11-24T05:01:05.175888Z",
     "shell.execute_reply": "2024-11-24T05:01:05.174924Z"
    },
    "papermill": {
     "duration": 0.019081,
     "end_time": "2024-11-24T05:01:05.178322",
     "exception": false,
     "start_time": "2024-11-24T05:01:05.159241",
     "status": "completed"
    },
    "tags": []
   },
   "outputs": [],
   "source": [
    "iris = load_iris()\n",
    "X = iris.data\n",
    "y = iris.target"
   ]
  },
  {
   "cell_type": "code",
   "execution_count": 3,
   "id": "31aaab01",
   "metadata": {
    "execution": {
     "iopub.execute_input": "2024-11-24T05:01:05.187813Z",
     "iopub.status.busy": "2024-11-24T05:01:05.187440Z",
     "iopub.status.idle": "2024-11-24T05:01:05.195348Z",
     "shell.execute_reply": "2024-11-24T05:01:05.194222Z"
    },
    "papermill": {
     "duration": 0.01513,
     "end_time": "2024-11-24T05:01:05.197506",
     "exception": false,
     "start_time": "2024-11-24T05:01:05.182376",
     "status": "completed"
    },
    "tags": []
   },
   "outputs": [],
   "source": [
    "X_train, X_test, y_train, y_test = train_test_split(X, y, test_size=0.2, random_state=42)"
   ]
  },
  {
   "cell_type": "code",
   "execution_count": 4,
   "id": "4f574caf",
   "metadata": {
    "execution": {
     "iopub.execute_input": "2024-11-24T05:01:05.207823Z",
     "iopub.status.busy": "2024-11-24T05:01:05.207427Z",
     "iopub.status.idle": "2024-11-24T05:01:05.212926Z",
     "shell.execute_reply": "2024-11-24T05:01:05.211845Z"
    },
    "papermill": {
     "duration": 0.013748,
     "end_time": "2024-11-24T05:01:05.215399",
     "exception": false,
     "start_time": "2024-11-24T05:01:05.201651",
     "status": "completed"
    },
    "tags": []
   },
   "outputs": [],
   "source": [
    "# Define the parameter grid: Specify a grid of hyperparameters for the SVM model to search over. \n",
    "# The grid includes different values for C, gamma, and kernel.\n",
    "param_grid = {\n",
    "    'C': [0.1, 1, 10, 100],\n",
    "    'gamma': [1, 0.1, 0.01, 0.001],\n",
    "    'kernel': ['linear', 'rbf', 'poly']\n",
    "}"
   ]
  },
  {
   "cell_type": "code",
   "execution_count": 5,
   "id": "2071263f",
   "metadata": {
    "execution": {
     "iopub.execute_input": "2024-11-24T05:01:05.225688Z",
     "iopub.status.busy": "2024-11-24T05:01:05.224702Z",
     "iopub.status.idle": "2024-11-24T05:01:05.229690Z",
     "shell.execute_reply": "2024-11-24T05:01:05.228463Z"
    },
    "papermill": {
     "duration": 0.01222,
     "end_time": "2024-11-24T05:01:05.231719",
     "exception": false,
     "start_time": "2024-11-24T05:01:05.219499",
     "status": "completed"
    },
    "tags": []
   },
   "outputs": [],
   "source": [
    "# Initialize the SVC model: Create an instance of the support vector classifier (SVC).\n",
    "svc = SVC()"
   ]
  },
  {
   "cell_type": "code",
   "execution_count": 6,
   "id": "88f8b38d",
   "metadata": {
    "execution": {
     "iopub.execute_input": "2024-11-24T05:01:05.242124Z",
     "iopub.status.busy": "2024-11-24T05:01:05.241208Z",
     "iopub.status.idle": "2024-11-24T05:01:05.246235Z",
     "shell.execute_reply": "2024-11-24T05:01:05.245261Z"
    },
    "papermill": {
     "duration": 0.01267,
     "end_time": "2024-11-24T05:01:05.248428",
     "exception": false,
     "start_time": "2024-11-24T05:01:05.235758",
     "status": "completed"
    },
    "tags": []
   },
   "outputs": [],
   "source": [
    "# Initialize GridSearchCV: \n",
    "# Set up the GridSearchCV with the SVC model, the parameter grid, and the desired configuration.\n",
    "\n",
    "grid_search = GridSearchCV(estimator=svc, param_grid=param_grid, scoring='accuracy', cv=5, n_jobs=-1, verbose=2)"
   ]
  },
  {
   "cell_type": "code",
   "execution_count": 7,
   "id": "1d957c5f",
   "metadata": {
    "execution": {
     "iopub.execute_input": "2024-11-24T05:01:05.257969Z",
     "iopub.status.busy": "2024-11-24T05:01:05.257593Z",
     "iopub.status.idle": "2024-11-24T05:01:07.769764Z",
     "shell.execute_reply": "2024-11-24T05:01:07.768468Z"
    },
    "papermill": {
     "duration": 2.519534,
     "end_time": "2024-11-24T05:01:07.772111",
     "exception": false,
     "start_time": "2024-11-24T05:01:05.252577",
     "status": "completed"
    },
    "tags": []
   },
   "outputs": [
    {
     "name": "stdout",
     "output_type": "stream",
     "text": [
      "Fitting 5 folds for each of 48 candidates, totalling 240 fits\n"
     ]
    },
    {
     "data": {
      "text/html": [
       "<style>#sk-container-id-1 {color: black;background-color: white;}#sk-container-id-1 pre{padding: 0;}#sk-container-id-1 div.sk-toggleable {background-color: white;}#sk-container-id-1 label.sk-toggleable__label {cursor: pointer;display: block;width: 100%;margin-bottom: 0;padding: 0.3em;box-sizing: border-box;text-align: center;}#sk-container-id-1 label.sk-toggleable__label-arrow:before {content: \"▸\";float: left;margin-right: 0.25em;color: #696969;}#sk-container-id-1 label.sk-toggleable__label-arrow:hover:before {color: black;}#sk-container-id-1 div.sk-estimator:hover label.sk-toggleable__label-arrow:before {color: black;}#sk-container-id-1 div.sk-toggleable__content {max-height: 0;max-width: 0;overflow: hidden;text-align: left;background-color: #f0f8ff;}#sk-container-id-1 div.sk-toggleable__content pre {margin: 0.2em;color: black;border-radius: 0.25em;background-color: #f0f8ff;}#sk-container-id-1 input.sk-toggleable__control:checked~div.sk-toggleable__content {max-height: 200px;max-width: 100%;overflow: auto;}#sk-container-id-1 input.sk-toggleable__control:checked~label.sk-toggleable__label-arrow:before {content: \"▾\";}#sk-container-id-1 div.sk-estimator input.sk-toggleable__control:checked~label.sk-toggleable__label {background-color: #d4ebff;}#sk-container-id-1 div.sk-label input.sk-toggleable__control:checked~label.sk-toggleable__label {background-color: #d4ebff;}#sk-container-id-1 input.sk-hidden--visually {border: 0;clip: rect(1px 1px 1px 1px);clip: rect(1px, 1px, 1px, 1px);height: 1px;margin: -1px;overflow: hidden;padding: 0;position: absolute;width: 1px;}#sk-container-id-1 div.sk-estimator {font-family: monospace;background-color: #f0f8ff;border: 1px dotted black;border-radius: 0.25em;box-sizing: border-box;margin-bottom: 0.5em;}#sk-container-id-1 div.sk-estimator:hover {background-color: #d4ebff;}#sk-container-id-1 div.sk-parallel-item::after {content: \"\";width: 100%;border-bottom: 1px solid gray;flex-grow: 1;}#sk-container-id-1 div.sk-label:hover label.sk-toggleable__label {background-color: #d4ebff;}#sk-container-id-1 div.sk-serial::before {content: \"\";position: absolute;border-left: 1px solid gray;box-sizing: border-box;top: 0;bottom: 0;left: 50%;z-index: 0;}#sk-container-id-1 div.sk-serial {display: flex;flex-direction: column;align-items: center;background-color: white;padding-right: 0.2em;padding-left: 0.2em;position: relative;}#sk-container-id-1 div.sk-item {position: relative;z-index: 1;}#sk-container-id-1 div.sk-parallel {display: flex;align-items: stretch;justify-content: center;background-color: white;position: relative;}#sk-container-id-1 div.sk-item::before, #sk-container-id-1 div.sk-parallel-item::before {content: \"\";position: absolute;border-left: 1px solid gray;box-sizing: border-box;top: 0;bottom: 0;left: 50%;z-index: -1;}#sk-container-id-1 div.sk-parallel-item {display: flex;flex-direction: column;z-index: 1;position: relative;background-color: white;}#sk-container-id-1 div.sk-parallel-item:first-child::after {align-self: flex-end;width: 50%;}#sk-container-id-1 div.sk-parallel-item:last-child::after {align-self: flex-start;width: 50%;}#sk-container-id-1 div.sk-parallel-item:only-child::after {width: 0;}#sk-container-id-1 div.sk-dashed-wrapped {border: 1px dashed gray;margin: 0 0.4em 0.5em 0.4em;box-sizing: border-box;padding-bottom: 0.4em;background-color: white;}#sk-container-id-1 div.sk-label label {font-family: monospace;font-weight: bold;display: inline-block;line-height: 1.2em;}#sk-container-id-1 div.sk-label-container {text-align: center;}#sk-container-id-1 div.sk-container {/* jupyter's `normalize.less` sets `[hidden] { display: none; }` but bootstrap.min.css set `[hidden] { display: none !important; }` so we also need the `!important` here to be able to override the default hidden behavior on the sphinx rendered scikit-learn.org. See: https://github.com/scikit-learn/scikit-learn/issues/21755 */display: inline-block !important;position: relative;}#sk-container-id-1 div.sk-text-repr-fallback {display: none;}</style><div id=\"sk-container-id-1\" class=\"sk-top-container\"><div class=\"sk-text-repr-fallback\"><pre>GridSearchCV(cv=5, estimator=SVC(), n_jobs=-1,\n",
       "             param_grid={&#x27;C&#x27;: [0.1, 1, 10, 100], &#x27;gamma&#x27;: [1, 0.1, 0.01, 0.001],\n",
       "                         &#x27;kernel&#x27;: [&#x27;linear&#x27;, &#x27;rbf&#x27;, &#x27;poly&#x27;]},\n",
       "             scoring=&#x27;accuracy&#x27;, verbose=2)</pre><b>In a Jupyter environment, please rerun this cell to show the HTML representation or trust the notebook. <br />On GitHub, the HTML representation is unable to render, please try loading this page with nbviewer.org.</b></div><div class=\"sk-container\" hidden><div class=\"sk-item sk-dashed-wrapped\"><div class=\"sk-label-container\"><div class=\"sk-label sk-toggleable\"><input class=\"sk-toggleable__control sk-hidden--visually\" id=\"sk-estimator-id-1\" type=\"checkbox\" ><label for=\"sk-estimator-id-1\" class=\"sk-toggleable__label sk-toggleable__label-arrow\">GridSearchCV</label><div class=\"sk-toggleable__content\"><pre>GridSearchCV(cv=5, estimator=SVC(), n_jobs=-1,\n",
       "             param_grid={&#x27;C&#x27;: [0.1, 1, 10, 100], &#x27;gamma&#x27;: [1, 0.1, 0.01, 0.001],\n",
       "                         &#x27;kernel&#x27;: [&#x27;linear&#x27;, &#x27;rbf&#x27;, &#x27;poly&#x27;]},\n",
       "             scoring=&#x27;accuracy&#x27;, verbose=2)</pre></div></div></div><div class=\"sk-parallel\"><div class=\"sk-parallel-item\"><div class=\"sk-item\"><div class=\"sk-label-container\"><div class=\"sk-label sk-toggleable\"><input class=\"sk-toggleable__control sk-hidden--visually\" id=\"sk-estimator-id-2\" type=\"checkbox\" ><label for=\"sk-estimator-id-2\" class=\"sk-toggleable__label sk-toggleable__label-arrow\">estimator: SVC</label><div class=\"sk-toggleable__content\"><pre>SVC()</pre></div></div></div><div class=\"sk-serial\"><div class=\"sk-item\"><div class=\"sk-estimator sk-toggleable\"><input class=\"sk-toggleable__control sk-hidden--visually\" id=\"sk-estimator-id-3\" type=\"checkbox\" ><label for=\"sk-estimator-id-3\" class=\"sk-toggleable__label sk-toggleable__label-arrow\">SVC</label><div class=\"sk-toggleable__content\"><pre>SVC()</pre></div></div></div></div></div></div></div></div></div></div>"
      ],
      "text/plain": [
       "GridSearchCV(cv=5, estimator=SVC(), n_jobs=-1,\n",
       "             param_grid={'C': [0.1, 1, 10, 100], 'gamma': [1, 0.1, 0.01, 0.001],\n",
       "                         'kernel': ['linear', 'rbf', 'poly']},\n",
       "             scoring='accuracy', verbose=2)"
      ]
     },
     "execution_count": 7,
     "metadata": {},
     "output_type": "execute_result"
    }
   ],
   "source": [
    "# Fit GridSearchCV to the training data: Perform the grid search on the training data.\n",
    "\n",
    "grid_search.fit(X_train, y_train)"
   ]
  },
  {
   "cell_type": "code",
   "execution_count": 8,
   "id": "48244f8c",
   "metadata": {
    "execution": {
     "iopub.execute_input": "2024-11-24T05:01:07.784679Z",
     "iopub.status.busy": "2024-11-24T05:01:07.784267Z",
     "iopub.status.idle": "2024-11-24T05:01:07.790486Z",
     "shell.execute_reply": "2024-11-24T05:01:07.789452Z"
    },
    "papermill": {
     "duration": 0.015076,
     "end_time": "2024-11-24T05:01:07.792802",
     "exception": false,
     "start_time": "2024-11-24T05:01:07.777726",
     "status": "completed"
    },
    "tags": []
   },
   "outputs": [
    {
     "name": "stdout",
     "output_type": "stream",
     "text": [
      "Best parameters found:  {'C': 0.1, 'gamma': 0.1, 'kernel': 'poly'}\n",
      "Best estimator:  SVC(C=0.1, gamma=0.1, kernel='poly')\n"
     ]
    }
   ],
   "source": [
    "# Check the best parameters and estimator: After fitting, print the best parameters and the best estimator found during the grid search.\n",
    "\n",
    "print(\"Best parameters found: \", grid_search.best_params_)\n",
    "print(\"Best estimator: \", grid_search.best_estimator_)"
   ]
  },
  {
   "cell_type": "code",
   "execution_count": 9,
   "id": "548fc38e",
   "metadata": {
    "execution": {
     "iopub.execute_input": "2024-11-24T05:01:07.803385Z",
     "iopub.status.busy": "2024-11-24T05:01:07.802961Z",
     "iopub.status.idle": "2024-11-24T05:01:07.808851Z",
     "shell.execute_reply": "2024-11-24T05:01:07.807734Z"
    },
    "papermill": {
     "duration": 0.014005,
     "end_time": "2024-11-24T05:01:07.811261",
     "exception": false,
     "start_time": "2024-11-24T05:01:07.797256",
     "status": "completed"
    },
    "tags": []
   },
   "outputs": [],
   "source": [
    "# Make predictions with the best estimator: Use the best estimator to make predictions on the test set.\n",
    "\n",
    "y_pred = grid_search.best_estimator_.predict(X_test)"
   ]
  },
  {
   "cell_type": "code",
   "execution_count": 10,
   "id": "02136d59",
   "metadata": {
    "execution": {
     "iopub.execute_input": "2024-11-24T05:01:07.822837Z",
     "iopub.status.busy": "2024-11-24T05:01:07.821960Z",
     "iopub.status.idle": "2024-11-24T05:01:07.836778Z",
     "shell.execute_reply": "2024-11-24T05:01:07.835345Z"
    },
    "papermill": {
     "duration": 0.023283,
     "end_time": "2024-11-24T05:01:07.839225",
     "exception": false,
     "start_time": "2024-11-24T05:01:07.815942",
     "status": "completed"
    },
    "tags": []
   },
   "outputs": [
    {
     "name": "stdout",
     "output_type": "stream",
     "text": [
      "              precision    recall  f1-score   support\n",
      "\n",
      "           0       1.00      1.00      1.00        10\n",
      "           1       1.00      1.00      1.00         9\n",
      "           2       1.00      1.00      1.00        11\n",
      "\n",
      "    accuracy                           1.00        30\n",
      "   macro avg       1.00      1.00      1.00        30\n",
      "weighted avg       1.00      1.00      1.00        30\n",
      "\n"
     ]
    }
   ],
   "source": [
    "# Evaluate the performance: Evaluate the model's performance on the test set using the classification_report function, which provides precision, recall, F1-score, and support for each class.\n",
    "\n",
    "print(classification_report(y_test, y_pred))"
   ]
  },
  {
   "cell_type": "markdown",
   "id": "78ee8c2b",
   "metadata": {
    "papermill": {
     "duration": 0.004201,
     "end_time": "2024-11-24T05:01:07.848004",
     "exception": false,
     "start_time": "2024-11-24T05:01:07.843803",
     "status": "completed"
    },
    "tags": []
   },
   "source": [
    "## Key Points\r\n",
    "* GridSearchCV conducts a thorough exploration across a defined parameter grid.\n",
    "* Parameters include the estimator to optimize, parameter grid, scoring method, number of jobs for parallel execution, cross-validation strategy, and verbosity.\n",
    "* Practical example demonstrated using GridSearchCV to find the optimal parameters for an SVC model on the Iris data set.\n",
    "* GridSearchCV helps in selecting the best model by evaluating multiple combinations of hyperparameters.\n",
    "ers."
   ]
  },
  {
   "cell_type": "markdown",
   "id": "0e5b3b5c",
   "metadata": {
    "papermill": {
     "duration": 0.004553,
     "end_time": "2024-11-24T05:01:07.857078",
     "exception": false,
     "start_time": "2024-11-24T05:01:07.852525",
     "status": "completed"
    },
    "tags": []
   },
   "source": [
    "### Examples of various models hyperparameters for the param_grid parameter."
   ]
  },
  {
   "cell_type": "code",
   "execution_count": 11,
   "id": "01195797",
   "metadata": {
    "execution": {
     "iopub.execute_input": "2024-11-24T05:01:07.867721Z",
     "iopub.status.busy": "2024-11-24T05:01:07.867250Z",
     "iopub.status.idle": "2024-11-24T05:01:07.872588Z",
     "shell.execute_reply": "2024-11-24T05:01:07.871511Z"
    },
    "papermill": {
     "duration": 0.013101,
     "end_time": "2024-11-24T05:01:07.874685",
     "exception": false,
     "start_time": "2024-11-24T05:01:07.861584",
     "status": "completed"
    },
    "tags": []
   },
   "outputs": [],
   "source": [
    "# Logistic Regression: When tuning a logistic regression model, GridSearchCV \n",
    "# can search through different values of C, penalty, and solver to find the best parameters.\n",
    "parameters = {'C': [0.01, 0.1, 1],\n",
    "              'penalty': ['l2'],\n",
    "              'solver': ['lbfgs']}\n",
    "\n",
    "# C: Inverse of regularization strength; smaller values specify stronger regularization.\n",
    "# penalty: Specifies the norm of the penalty; 'l2' is ridge regression.\n",
    "# solver: Algorithm to use in the optimization problem."
   ]
  },
  {
   "cell_type": "code",
   "execution_count": 12,
   "id": "b5f4a9ce",
   "metadata": {
    "execution": {
     "iopub.execute_input": "2024-11-24T05:01:07.885114Z",
     "iopub.status.busy": "2024-11-24T05:01:07.884693Z",
     "iopub.status.idle": "2024-11-24T05:01:07.890640Z",
     "shell.execute_reply": "2024-11-24T05:01:07.889543Z"
    },
    "papermill": {
     "duration": 0.013548,
     "end_time": "2024-11-24T05:01:07.892726",
     "exception": false,
     "start_time": "2024-11-24T05:01:07.879178",
     "status": "completed"
    },
    "tags": []
   },
   "outputs": [],
   "source": [
    "# Support Vector Machine: For SVM, GridSearchCV can explore different kernels, \n",
    "# C values, and gamma settings to optimize the model.\n",
    "parameters = {'kernel': ['linear', 'rbf', 'poly', 'sigmoid'],\n",
    "              'C': np.logspace(-3, 3, 5),\n",
    "              'gamma': np.logspace(-3, 3, 5)}\n",
    "\n",
    "# kernel: Specifies the kernel type to be used in the algorithm.\n",
    "# C: Regularization parameter.\n",
    "# gamma: Kernel coefficient."
   ]
  },
  {
   "cell_type": "code",
   "execution_count": 13,
   "id": "c0e1e7fc",
   "metadata": {
    "execution": {
     "iopub.execute_input": "2024-11-24T05:01:07.903805Z",
     "iopub.status.busy": "2024-11-24T05:01:07.902946Z",
     "iopub.status.idle": "2024-11-24T05:01:07.909076Z",
     "shell.execute_reply": "2024-11-24T05:01:07.908017Z"
    },
    "papermill": {
     "duration": 0.013938,
     "end_time": "2024-11-24T05:01:07.911231",
     "exception": false,
     "start_time": "2024-11-24T05:01:07.897293",
     "status": "completed"
    },
    "tags": []
   },
   "outputs": [],
   "source": [
    "# Decision Tree Classifier: In the case of a decision tree, GridSearchCV can test \n",
    "# various criteria, splitters, depths, and other parameters to find the best configuration.\n",
    "\n",
    "parameters = {'criterion': ['gini', 'entropy'],\n",
    "              'splitter': ['best', 'random'],\n",
    "              'max_depth': [2*n for n in range(1, 10)],\n",
    "              'max_features': ['auto', 'sqrt'],\n",
    "              'min_samples_leaf': [1, 2, 4],\n",
    "              'min_samples_split': [2, 5, 10]}\n",
    "\n",
    "# criterion: The function to measure the quality of a split.\n",
    "# splitter: The strategy used to choose the split at each node.\n",
    "# max_depth: The maximum depth of the tree.\n",
    "# max_features: The number of features to consider when looking for the best split.\n",
    "# min_samples_leaf: The minimum number of samples required to be at a leaf node.\n",
    "# min_samples_split: The minimum number of samples required to split an internal node."
   ]
  },
  {
   "cell_type": "code",
   "execution_count": 14,
   "id": "236b2e09",
   "metadata": {
    "execution": {
     "iopub.execute_input": "2024-11-24T05:01:07.922253Z",
     "iopub.status.busy": "2024-11-24T05:01:07.921352Z",
     "iopub.status.idle": "2024-11-24T05:01:07.926915Z",
     "shell.execute_reply": "2024-11-24T05:01:07.925872Z"
    },
    "papermill": {
     "duration": 0.013623,
     "end_time": "2024-11-24T05:01:07.929288",
     "exception": false,
     "start_time": "2024-11-24T05:01:07.915665",
     "status": "completed"
    },
    "tags": []
   },
   "outputs": [],
   "source": [
    "# K-Nearest Neighbors: For KNN, GridSearchCV can try different numbers of neighbors, \n",
    "# algorithms, and power parameters to determine the best model. \n",
    "\n",
    "parameters = {'n_neighbors': [1, 2, 3, 4, 5, 6, 7, 8, 9, 10],\n",
    "              'algorithm': ['auto', 'ball_tree', 'kd_tree', 'brute'],\n",
    "              'p': [1, 2]}\n",
    "\n",
    "# n_neighbors: Number of neighbors to use.\n",
    "# algorithm: Algorithm used to compute the nearest neighbors.\n",
    "# p: Power parameter for the Minkowski metric."
   ]
  },
  {
   "cell_type": "markdown",
   "id": "d788eb60",
   "metadata": {
    "papermill": {
     "duration": 0.00419,
     "end_time": "2024-11-24T05:01:07.938097",
     "exception": false,
     "start_time": "2024-11-24T05:01:07.933907",
     "status": "completed"
    },
    "tags": []
   },
   "source": [
    "### Applications and Advantages of GridSearchCV\r\n",
    "* Model Selection: GridSearchCV enables the comparison of multiple models and facilitates the selection of the best-performing one for a given data set.\n",
    "* Hyperparameter Tuning: It automates the process of finding the optimal hyperparameters, which can significantly improve the performance of machine learning models.\n",
    "* Pipeline Optimization: GridSearchCV can be applied to complex pipelines involving multiple preprocessing steps and models to optimize the entire workflow.\n",
    "* Cross-Validation: It incorporates cross-validation in the parameter search process, ensuring that the model's performance is robust and not overfitted to a particular train-test split.\n",
    "* Exhaustive Search: GridSearchCV performs an exhaustive search over the specified parameter grid, ensuring that the best combination of parameters is found.\n",
    "* Parallel Execution: With the n_jobs parameter, it can leverage multiple processors to speed up the search process.\n",
    "* Automatic Refit: By setting refit=True, GridSearchCV automatically refits the model with the best parameters on the entire data set, making it ready for use.\n",
    "* Detailed Output: The cv_results_ attribute provides detailed information about the performance of each parameter combination, including training and validation scores, which helps in understanding the model's behavior.\n",
    "del's behavior."
   ]
  }
 ],
 "metadata": {
  "kaggle": {
   "accelerator": "none",
   "dataSources": [],
   "dockerImageVersionId": 30786,
   "isGpuEnabled": false,
   "isInternetEnabled": true,
   "language": "python",
   "sourceType": "notebook"
  },
  "kernelspec": {
   "display_name": "Python 3",
   "language": "python",
   "name": "python3"
  },
  "language_info": {
   "codemirror_mode": {
    "name": "ipython",
    "version": 3
   },
   "file_extension": ".py",
   "mimetype": "text/x-python",
   "name": "python",
   "nbconvert_exporter": "python",
   "pygments_lexer": "ipython3",
   "version": "3.10.14"
  },
  "papermill": {
   "default_parameters": {},
   "duration": 10.684032,
   "end_time": "2024-11-24T05:01:10.563738",
   "environment_variables": {},
   "exception": null,
   "input_path": "__notebook__.ipynb",
   "output_path": "__notebook__.ipynb",
   "parameters": {},
   "start_time": "2024-11-24T05:00:59.879706",
   "version": "2.6.0"
  }
 },
 "nbformat": 4,
 "nbformat_minor": 5
}
